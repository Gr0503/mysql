{
 "cells": [
  {
   "cell_type": "markdown",
   "metadata": {},
   "source": [
    "# 函数\n",
    "\n",
    "- 函数可以用来定义可重复代码，组织和简化\n",
    "- 一般来说一个函数在实际开发中为一个小功能\n",
    "- 一个类为一个大功能\n",
    "- 同样函数的长度不要超过一屏"
   ]
  },
  {
   "cell_type": "code",
   "execution_count": null,
   "metadata": {},
   "outputs": [],
   "source": []
  },
  {
   "cell_type": "markdown",
   "metadata": {},
   "source": [
    "## 定义一个函数\n",
    "\n",
    "def function_name(list of parameters):\n",
    "    \n",
    "    do something\n",
    "![](../Photo/69.png)\n",
    "- 以前使用的random 或者range 或者print.. 其实都是函数或者类"
   ]
  },
  {
   "cell_type": "markdown",
   "metadata": {},
   "source": [
    "## 调用一个函数\n",
    "- functionName()\n",
    "- \"()\" 就代表调用"
   ]
  },
  {
   "cell_type": "code",
   "execution_count": null,
   "metadata": {},
   "outputs": [],
   "source": [
    "def Good(name):\n",
    "    print('')"
   ]
  },
  {
   "cell_type": "markdown",
   "metadata": {},
   "source": [
    "![](../Photo/70.png)"
   ]
  },
  {
   "cell_type": "markdown",
   "metadata": {},
   "source": [
    "## 带返回值和不带返回值的函数\n",
    "- return 返回的内容\n",
    "- return 返回多个值\n",
    "- 一般情况下，在多个函数协同完成一个功能的时候，那么将会有返回值"
   ]
  },
  {
   "cell_type": "markdown",
   "metadata": {},
   "source": [
    "![](../Photo/71.png)\n",
    "\n",
    "- 当然也可以自定义返回None"
   ]
  },
  {
   "cell_type": "markdown",
   "metadata": {},
   "source": [
    "## EP：\n",
    "![](../Photo/72.png)"
   ]
  },
  {
   "cell_type": "markdown",
   "metadata": {},
   "source": [
    "# KNN算法\n",
    "# 读取图片，进行对比分析\n",
    "import matplotlib.pyplot as plt \n",
    "\n",
    "res = plt.imread('D:/rabbit.jpg')\n",
    "print(res)"
   ]
  },
  {
   "cell_type": "markdown",
   "metadata": {},
   "source": [
    "## 类型和关键字参数\n",
    "- 普通参数\n",
    "- 多个参数\n",
    "- 默认值参数\n",
    "- 不定长参数"
   ]
  },
  {
   "cell_type": "markdown",
   "metadata": {},
   "source": [
    "## 普通参数"
   ]
  },
  {
   "cell_type": "markdown",
   "metadata": {},
   "source": [
    "## 多个参数"
   ]
  },
  {
   "cell_type": "markdown",
   "metadata": {},
   "source": [
    "## 默认值参数\n",
    "- 默认参数只能放在最后  *之后的必须强制命名传入参数,* 之后的变量必须带参数名"
   ]
  },
  {
   "cell_type": "code",
   "execution_count": null,
   "metadata": {},
   "outputs": [],
   "source": []
  },
  {
   "cell_type": "markdown",
   "metadata": {},
   "source": [
    "# 强制命名\n",
    "- *之后的必须强制命名传入参数,* 之后的变量必须带参数名"
   ]
  },
  {
   "cell_type": "code",
   "execution_count": 1,
   "metadata": {},
   "outputs": [
    {
     "ename": "TypeError",
     "evalue": "'<' not supported between instances of 'tuple' and 'NoneType'",
     "output_type": "error",
     "traceback": [
      "\u001b[1;31m---------------------------------------------------------------------------\u001b[0m",
      "\u001b[1;31mTypeError\u001b[0m                                 Traceback (most recent call last)",
      "\u001b[1;32m<ipython-input-1-5cca83341997>\u001b[0m in \u001b[0;36m<module>\u001b[1;34m\u001b[0m\n\u001b[0;32m      5\u001b[0m     \u001b[1;32mif\u001b[0m \u001b[0mn2\u001b[0m\u001b[1;33m<\u001b[0m\u001b[0msmallest\u001b[0m\u001b[1;33m:\u001b[0m\u001b[1;33m\u001b[0m\u001b[1;33m\u001b[0m\u001b[0m\n\u001b[0;32m      6\u001b[0m         \u001b[0msmallest\u001b[0m\u001b[1;33m=\u001b[0m\u001b[0mn2\u001b[0m\u001b[1;33m\u001b[0m\u001b[1;33m\u001b[0m\u001b[0m\n\u001b[1;32m----> 7\u001b[1;33m \u001b[0mmain\u001b[0m\u001b[1;33m(\u001b[0m\u001b[1;33m)\u001b[0m\u001b[1;33m\u001b[0m\u001b[1;33m\u001b[0m\u001b[0m\n\u001b[0m\u001b[0;32m      8\u001b[0m \u001b[1;33m\u001b[0m\u001b[0m\n",
      "\u001b[1;32m<ipython-input-1-5cca83341997>\u001b[0m in \u001b[0;36mmain\u001b[1;34m()\u001b[0m\n\u001b[0;32m      1\u001b[0m \u001b[1;32mdef\u001b[0m \u001b[0mmain\u001b[0m\u001b[1;33m(\u001b[0m\u001b[1;33m)\u001b[0m\u001b[1;33m:\u001b[0m\u001b[1;33m\u001b[0m\u001b[1;33m\u001b[0m\u001b[0m\n\u001b[1;32m----> 2\u001b[1;33m     \u001b[0mprint\u001b[0m\u001b[1;33m(\u001b[0m\u001b[0mmin\u001b[0m\u001b[1;33m(\u001b[0m\u001b[0mmin\u001b[0m\u001b[1;33m(\u001b[0m\u001b[1;36m5\u001b[0m\u001b[1;33m,\u001b[0m\u001b[1;36m6\u001b[0m\u001b[1;33m)\u001b[0m\u001b[1;33m,\u001b[0m\u001b[1;33m(\u001b[0m\u001b[1;36m51\u001b[0m\u001b[1;33m,\u001b[0m\u001b[1;36m6\u001b[0m\u001b[1;33m)\u001b[0m\u001b[1;33m)\u001b[0m\u001b[1;33m)\u001b[0m\u001b[1;33m\u001b[0m\u001b[1;33m\u001b[0m\u001b[0m\n\u001b[0m\u001b[0;32m      3\u001b[0m \u001b[1;32mdef\u001b[0m \u001b[0mmin\u001b[0m\u001b[1;33m(\u001b[0m\u001b[0mn1\u001b[0m\u001b[1;33m,\u001b[0m\u001b[0mn2\u001b[0m\u001b[1;33m)\u001b[0m\u001b[1;33m:\u001b[0m\u001b[1;33m\u001b[0m\u001b[1;33m\u001b[0m\u001b[0m\n\u001b[0;32m      4\u001b[0m     \u001b[0msmallest\u001b[0m\u001b[1;33m=\u001b[0m\u001b[0mn1\u001b[0m\u001b[1;33m\u001b[0m\u001b[1;33m\u001b[0m\u001b[0m\n\u001b[0;32m      5\u001b[0m     \u001b[1;32mif\u001b[0m \u001b[0mn2\u001b[0m\u001b[1;33m<\u001b[0m\u001b[0msmallest\u001b[0m\u001b[1;33m:\u001b[0m\u001b[1;33m\u001b[0m\u001b[1;33m\u001b[0m\u001b[0m\n",
      "\u001b[1;32m<ipython-input-1-5cca83341997>\u001b[0m in \u001b[0;36mmin\u001b[1;34m(n1, n2)\u001b[0m\n\u001b[0;32m      3\u001b[0m \u001b[1;32mdef\u001b[0m \u001b[0mmin\u001b[0m\u001b[1;33m(\u001b[0m\u001b[0mn1\u001b[0m\u001b[1;33m,\u001b[0m\u001b[0mn2\u001b[0m\u001b[1;33m)\u001b[0m\u001b[1;33m:\u001b[0m\u001b[1;33m\u001b[0m\u001b[1;33m\u001b[0m\u001b[0m\n\u001b[0;32m      4\u001b[0m     \u001b[0msmallest\u001b[0m\u001b[1;33m=\u001b[0m\u001b[0mn1\u001b[0m\u001b[1;33m\u001b[0m\u001b[1;33m\u001b[0m\u001b[0m\n\u001b[1;32m----> 5\u001b[1;33m     \u001b[1;32mif\u001b[0m \u001b[0mn2\u001b[0m\u001b[1;33m<\u001b[0m\u001b[0msmallest\u001b[0m\u001b[1;33m:\u001b[0m\u001b[1;33m\u001b[0m\u001b[1;33m\u001b[0m\u001b[0m\n\u001b[0m\u001b[0;32m      6\u001b[0m         \u001b[0msmallest\u001b[0m\u001b[1;33m=\u001b[0m\u001b[0mn2\u001b[0m\u001b[1;33m\u001b[0m\u001b[1;33m\u001b[0m\u001b[0m\n\u001b[0;32m      7\u001b[0m \u001b[0mmain\u001b[0m\u001b[1;33m(\u001b[0m\u001b[1;33m)\u001b[0m\u001b[1;33m\u001b[0m\u001b[1;33m\u001b[0m\u001b[0m\n",
      "\u001b[1;31mTypeError\u001b[0m: '<' not supported between instances of 'tuple' and 'NoneType'"
     ]
    }
   ],
   "source": [
    "def main():\n",
    "    print(min(min(5,6),(51,6)))\n",
    "def min(n1,n2):\n",
    "    smallest=n1\n",
    "    if n2<smallest:\n",
    "        smallest=n2\n",
    "main()\n",
    "    "
   ]
  },
  {
   "cell_type": "markdown",
   "metadata": {},
   "source": [
    "## 不定长参数\n",
    "- \\*args, 不定长，输入多少参数都可以，不写入参数也可以\n",
    "> - 可以输入多个参数\n",
    "  - 返回输出结果的类型是元组类型，元组可以迭代，输入多少个参数都可以迭代来取出\n",
    "  - args 名字是可以修改的，只是通常约定为args\n",
    "- \\**kwargs, 不定长第二种\n",
    "> - 可以输入多个参数，但需要带参数名称\n",
    "  - 返回的数据类型是字典\n",
    "  - 输入的一定要是表达式(键值对)\n",
    "- 一般大的项目传入参数时，使用config文件一次写入所有的参数"
   ]
  },
  {
   "cell_type": "code",
   "execution_count": null,
   "metadata": {},
   "outputs": [],
   "source": []
  },
  {
   "cell_type": "markdown",
   "metadata": {},
   "source": [
    "### \\**kwargs, 不定长第二种\n",
    "- 第二种不定长参数传入方法，使用字典数据传入\n",
    "- 写入参数时，必须先写\\*args, 再写\\**kwargs。 这是固定写法"
   ]
  },
  {
   "cell_type": "markdown",
   "metadata": {},
   "source": [
    "## 变量的作用域\n",
    "- 局部变量 local\n",
    "- 全局变量 global\n",
    "- globals 函数返回一个全局变量的字典，包括所有导入的变量\n",
    "- locals() 函数会以字典类型返回当前位置的全部局部变量。"
   ]
  },
  {
   "cell_type": "markdown",
   "metadata": {},
   "source": [
    "## 注意：\n",
    "- global ：在进行赋值操作的时候需要声明\n",
    "- 官方解释：This is because when you make an assignment to a variable in a scope, that variable becomes local to that scope and shadows any similarly named variable in the outer scope.\n",
    "- ![](../Photo/73.png)"
   ]
  },
  {
   "cell_type": "markdown",
   "metadata": {},
   "source": [
    "## EP：\n",
    "- 定义一个邮箱加密函数，使得输入邮箱后进行ASCII码加密\n",
    "- 定义一个判断其是否为闰年的函数\n",
    "- 函数的嵌套：定义两个函数A，B，B函数接受A函数的数值并判定是否为奇数或者偶数"
   ]
  },
  {
   "cell_type": "markdown",
   "metadata": {},
   "source": [
    "# Homework\n",
    "- 1\n",
    "![](../Photo/74.png)"
   ]
  },
  {
   "cell_type": "code",
   "execution_count": 1,
   "metadata": {},
   "outputs": [
    {
     "name": "stdout",
     "output_type": "stream",
     "text": [
      "0.0\n",
      "\n",
      "\n",
      "1.0\n",
      "5.0\n",
      "12.0\n",
      "22.0\n",
      "35.0\n",
      "51.0\n",
      "70.0\n",
      "92.0\n",
      "117.0\n",
      "145.0\n",
      "\n",
      "\n",
      "176.0\n",
      "210.0\n",
      "247.0\n",
      "287.0\n",
      "330.0\n",
      "376.0\n",
      "425.0\n",
      "477.0\n",
      "532.0\n",
      "590.0\n",
      "\n",
      "\n",
      "651.0\n",
      "715.0\n",
      "782.0\n",
      "852.0\n",
      "925.0\n",
      "1001.0\n",
      "1080.0\n",
      "1162.0\n",
      "1247.0\n",
      "1335.0\n",
      "\n",
      "\n",
      "1426.0\n",
      "1520.0\n",
      "1617.0\n",
      "1717.0\n",
      "1820.0\n",
      "1926.0\n",
      "2035.0\n",
      "2147.0\n",
      "2262.0\n",
      "2380.0\n",
      "\n",
      "\n",
      "2501.0\n",
      "2625.0\n",
      "2752.0\n",
      "2882.0\n",
      "3015.0\n",
      "3151.0\n",
      "3290.0\n",
      "3432.0\n",
      "3577.0\n",
      "3725.0\n",
      "\n",
      "\n",
      "3876.0\n",
      "4030.0\n",
      "4187.0\n",
      "4347.0\n",
      "4510.0\n",
      "4676.0\n",
      "4845.0\n",
      "5017.0\n",
      "5192.0\n",
      "5370.0\n",
      "\n",
      "\n",
      "5551.0\n",
      "5735.0\n",
      "5922.0\n",
      "6112.0\n",
      "6305.0\n",
      "6501.0\n",
      "6700.0\n",
      "6902.0\n",
      "7107.0\n",
      "7315.0\n",
      "\n",
      "\n",
      "7526.0\n",
      "7740.0\n",
      "7957.0\n",
      "8177.0\n",
      "8400.0\n",
      "8626.0\n",
      "8855.0\n",
      "9087.0\n",
      "9322.0\n",
      "9560.0\n",
      "\n",
      "\n",
      "9801.0\n",
      "10045.0\n",
      "10292.0\n",
      "10542.0\n",
      "10795.0\n",
      "11051.0\n",
      "11310.0\n",
      "11572.0\n",
      "11837.0\n",
      "12105.0\n",
      "\n",
      "\n",
      "12376.0\n",
      "12650.0\n",
      "12927.0\n",
      "13207.0\n",
      "13490.0\n",
      "13776.0\n",
      "14065.0\n",
      "14357.0\n",
      "14652.0\n"
     ]
    }
   ],
   "source": [
    "# coding:utf-8\n",
    "def getPentagonalNumber(n):\n",
    "    m=n*(3*n-1)/2\n",
    "    print(m)\n",
    "i=1\n",
    "for i in range(100):\n",
    "    getPentagonalNumber(i)\n",
    "    if i%10==0:\n",
    "        print(\"\\n\")"
   ]
  },
  {
   "cell_type": "markdown",
   "metadata": {},
   "source": [
    "- 2 \n",
    "![](../Photo/75.png)"
   ]
  },
  {
   "cell_type": "code",
   "execution_count": 2,
   "metadata": {},
   "outputs": [
    {
     "name": "stdout",
     "output_type": "stream",
     "text": [
      "输入一个整数:20\n",
      "2\n"
     ]
    }
   ],
   "source": [
    "# coding:utf-8\n",
    "def sumDigits(n):\n",
    "    if n==0:\n",
    "        return 0\n",
    "    m=n%10\n",
    "    return m+sumDigits(n/10)\n",
    "y=input(\"输入一个整数:\")\n",
    "y=int(y)\n",
    "x=sumDigits(y)\n",
    "x=int(x)\n",
    "print(x)"
   ]
  },
  {
   "cell_type": "markdown",
   "metadata": {},
   "source": [
    "- 3\n",
    "![](../Photo/76.png)"
   ]
  },
  {
   "cell_type": "code",
   "execution_count": 4,
   "metadata": {},
   "outputs": [
    {
     "name": "stdout",
     "output_type": "stream",
     "text": [
      "Enter three numbers:\n",
      "3,5,7\n"
     ]
    },
    {
     "ename": "ValueError",
     "evalue": "invalid literal for int() with base 10: '3,5,7'",
     "output_type": "error",
     "traceback": [
      "\u001b[1;31m---------------------------------------------------------------------------\u001b[0m",
      "\u001b[1;31mValueError\u001b[0m                                Traceback (most recent call last)",
      "\u001b[1;32m<ipython-input-4-c99ddb31f78a>\u001b[0m in \u001b[0;36m<module>\u001b[1;34m\u001b[0m\n\u001b[0;32m     16\u001b[0m            \u001b[0mprint\u001b[0m\u001b[1;33m(\u001b[0m\u001b[0mnum3\u001b[0m\u001b[1;33m,\u001b[0m\u001b[0mnum1\u001b[0m\u001b[1;33m,\u001b[0m\u001b[0mnum2\u001b[0m\u001b[1;33m)\u001b[0m\u001b[1;33m\u001b[0m\u001b[1;33m\u001b[0m\u001b[0m\n\u001b[0;32m     17\u001b[0m \u001b[0mprint\u001b[0m\u001b[1;33m(\u001b[0m\u001b[1;34m\"Enter three numbers:\"\u001b[0m\u001b[1;33m)\u001b[0m\u001b[1;33m\u001b[0m\u001b[1;33m\u001b[0m\u001b[0m\n\u001b[1;32m---> 18\u001b[1;33m \u001b[0ma\u001b[0m\u001b[1;33m,\u001b[0m \u001b[0mb\u001b[0m\u001b[1;33m,\u001b[0m \u001b[0mc\u001b[0m \u001b[1;33m=\u001b[0m \u001b[0mmap\u001b[0m\u001b[1;33m(\u001b[0m\u001b[0mint\u001b[0m\u001b[1;33m,\u001b[0m \u001b[0minput\u001b[0m\u001b[1;33m(\u001b[0m\u001b[1;33m)\u001b[0m\u001b[1;33m.\u001b[0m\u001b[0msplit\u001b[0m\u001b[1;33m(\u001b[0m\u001b[1;33m)\u001b[0m\u001b[1;33m)\u001b[0m\u001b[1;33m\u001b[0m\u001b[1;33m\u001b[0m\u001b[0m\n\u001b[0m\u001b[0;32m     19\u001b[0m \u001b[0mprint\u001b[0m\u001b[1;33m(\u001b[0m\u001b[1;34m\"The sorted numbers are\"\u001b[0m\u001b[1;33m)\u001b[0m\u001b[1;33m\u001b[0m\u001b[1;33m\u001b[0m\u001b[0m\n\u001b[0;32m     20\u001b[0m \u001b[0mdisplaySortedNumbers\u001b[0m\u001b[1;33m(\u001b[0m\u001b[0ma\u001b[0m\u001b[1;33m,\u001b[0m\u001b[0mb\u001b[0m\u001b[1;33m,\u001b[0m\u001b[0mc\u001b[0m\u001b[1;33m)\u001b[0m\u001b[1;33m\u001b[0m\u001b[1;33m\u001b[0m\u001b[0m\n",
      "\u001b[1;31mValueError\u001b[0m: invalid literal for int() with base 10: '3,5,7'"
     ]
    }
   ],
   "source": [
    " def displaySortedNumbers(num1,num2,num3):\n",
    "    if num1>num2 and num1>num3:\n",
    "        if num2>num3:\n",
    "            print(num1,num2,num3)\n",
    "        else:\n",
    "            print(num1,num3,num2)\n",
    "    if num2>num1 and num2>num3:\n",
    "        if num1>num3:\n",
    "            print(num2,num1,num3)\n",
    "        else:\n",
    "            print(num2,num3,num1)\n",
    "    if num3>num2 and num3>num1:\n",
    "        if num2>num1:\n",
    "            print(num3,num2,num1)\n",
    "        else:\n",
    "            print(num3,num1,num2)\n",
    "print(\"Enter three numbers:\")\n",
    "a, b, c = map(int, input().split())\n",
    "print(\"The sorted numbers are\")\n",
    "displaySortedNumbers(a,b,c)"
   ]
  },
  {
   "cell_type": "markdown",
   "metadata": {},
   "source": [
    "# - 4\n",
    "![](../Photo/77.png)"
   ]
  },
  {
   "cell_type": "markdown",
   "metadata": {},
   "source": [
    "- 5\n",
    "![](../Photo/78.png)"
   ]
  },
  {
   "cell_type": "code",
   "execution_count": 10,
   "metadata": {},
   "outputs": [
    {
     "name": "stdout",
     "output_type": "stream",
     "text": [
      "请输入一个字母：g\n",
      "请输入一个字母：z\n",
      "请输入一个整数：6\n",
      "g h i j k l \n",
      "m n o p q r \n",
      "s t u v w x \n",
      "y z "
     ]
    }
   ],
   "source": [
    "def zifu(ch1,ch2,num):\n",
    "    num1=ord(ch1)\n",
    "    num2=ord(ch2)\n",
    "    num3=0\n",
    "    for i in range(num1,num2+1):\n",
    "        a=chr(i)\n",
    "        print(a,end=' ')\n",
    "        num3+=1\n",
    "        if num3%num==0:\n",
    "            print()\n",
    "ch1_=input('请输入一个字母：')\n",
    "ch2_=input('请输入一个字母：')\n",
    "num_=eval(input('请输入一个整数：'))\n",
    "zifu(ch1_,ch2_,num_)"
   ]
  },
  {
   "cell_type": "markdown",
   "metadata": {},
   "source": [
    "- 6\n",
    "![](../Photo/79.png)"
   ]
  },
  {
   "cell_type": "code",
   "execution_count": 5,
   "metadata": {},
   "outputs": [
    {
     "ename": "SyntaxError",
     "evalue": "invalid character in identifier (<ipython-input-5-8fcb8ca9c4ed>, line 1)",
     "output_type": "error",
     "traceback": [
      "\u001b[1;36m  File \u001b[1;32m\"<ipython-input-5-8fcb8ca9c4ed>\"\u001b[1;36m, line \u001b[1;32m1\u001b[0m\n\u001b[1;33m    def leap_year_or_not(year):\u001b[0m\n\u001b[1;37m                       ^\u001b[0m\n\u001b[1;31mSyntaxError\u001b[0m\u001b[1;31m:\u001b[0m invalid character in identifier\n"
     ]
    }
   ],
   "source": [
    "def leap_year_or_not(year):\n",
    "    # 世纪闰年:能被400整除的为世纪闰年。\n",
    "    # 普通闰年:能被4整除但不能被100整除的年份为普通闰年。\n",
    "    # 闰年共有366天,其他年只有365天。\n",
    "     \n",
    "    if int(year) % 400 == 0:\n",
    "        return True\n",
    "    elif int(year) % 100 !=0 and int(year) % 4 == 0:\n",
    "        return True\n",
    "    else:\n",
    "        return False\n",
    "def calculate_days_of_year(year):\n",
    "    leap = leap_year_or_not(year)\n",
    "    if leap:\n",
    "        days = 366\n",
    "        run = \"是\"\n",
    "    else:\n",
    "        days = 365\n",
    "        run = \"不是\"\n",
    "    print(\"{}年{}闰年，有{}天。\".format(year, run, days))\n",
    "if __name__ == \"__main__\":\n",
    "    print(\"输入年份:\")\n",
    "    n = input()\n",
    "    calculate_days_of_year(n)"
   ]
  },
  {
   "cell_type": "markdown",
   "metadata": {},
   "source": [
    "- 7\n",
    "![](../Photo/80.png)"
   ]
  },
  {
   "cell_type": "code",
   "execution_count": 9,
   "metadata": {},
   "outputs": [
    {
     "name": "stdout",
     "output_type": "stream",
     "text": [
      "2,3,4,5\n"
     ]
    },
    {
     "data": {
      "text/plain": [
       "1.4142135623730951"
      ]
     },
     "execution_count": 9,
     "metadata": {},
     "output_type": "execute_result"
    }
   ],
   "source": [
    "def juli(x1,x2,y1,y2):\n",
    "    l=((x2-x1)**2+(y2-y1)**2)**(1/2)\n",
    "    return l\n",
    "x1,x2,y1,y2=eval(input())\n",
    "juli(x1,x2,y1,y2)"
   ]
  },
  {
   "cell_type": "markdown",
   "metadata": {},
   "source": [
    "- 8\n",
    "![](../Photo/81.png)"
   ]
  },
  {
   "cell_type": "code",
   "execution_count": 6,
   "metadata": {},
   "outputs": [
    {
     "name": "stdout",
     "output_type": "stream",
     "text": [
      "p\t2^p-1\n",
      "\n",
      "2 \t 3 \n",
      "\n",
      "3 \t 7 \n",
      "\n",
      "5 \t 31 \n",
      "\n",
      "7 \t 127 \n",
      "\n",
      "13 \t 8191 \n",
      "\n",
      "17 \t 131071 \n",
      "\n",
      "19 \t 524287 \n",
      "\n",
      "31 \t 2147483647 \n",
      "\n"
     ]
    }
   ],
   "source": [
    "# coding:utf-8\n",
    "import math\n",
    "def prime(n):\n",
    "    c=int(n**0.5)+1\n",
    "    for i in range(3,c):\n",
    "          if n%i==0:\n",
    "             return 0\n",
    "    return 1\n",
    "\n",
    "\n",
    "print(\"p\\t2^p-1\\n\")\n",
    "for j in range(2,32):\n",
    "    n=pow(2,j)-1\n",
    "    if prime(n)==1:\n",
    "        print(j,\"\\t\",n,\"\\n\")"
   ]
  },
  {
   "cell_type": "markdown",
   "metadata": {},
   "source": [
    "- 9\n",
    "![](../Photo/82.png)\n",
    "![](../Photo/83.png)"
   ]
  },
  {
   "cell_type": "code",
   "execution_count": 7,
   "metadata": {},
   "outputs": [
    {
     "name": "stdout",
     "output_type": "stream",
     "text": [
      "Current date and time is Sat May 11 23:32:39 2019\n"
     ]
    }
   ],
   "source": [
    "# coding:utf-8\n",
    "import time\n",
    "x=time.time()\n",
    "time.localtime(x)\n",
    "print(\"Current date and time is\",time.asctime(time.localtime(x)))"
   ]
  },
  {
   "cell_type": "markdown",
   "metadata": {},
   "source": [
    "- 10\n",
    "![](../Photo/84.png)"
   ]
  },
  {
   "cell_type": "code",
   "execution_count": 8,
   "metadata": {},
   "outputs": [
    {
     "name": "stdout",
     "output_type": "stream",
     "text": [
      "恭喜！你赢啦，点数是 7，看来你今天运气不错，去买张彩票试试吧！\n"
     ]
    }
   ],
   "source": [
    "# coding:utf-8\n",
    "import random\n",
    "import time\n",
    "\n",
    "def gennum():\n",
    "    random.seed(time.time())\n",
    "    dice={}\n",
    "    dice['1']=random.randrange(6)+1\n",
    "    dice['2']=random.randrange(6)+1\n",
    "    return sum(dice.values())\n",
    "numsum=gennum()\n",
    "if numsum in [7,11]:\n",
    "    print (\"恭喜！你赢啦，点数是 %d，看来你今天运气不错，去买张彩票试试吧！\" % numsum)\n",
    "elif numsum in [2,3,12]: #craps\n",
    "    print (\"抱歉，你输了，点数是 %d，没关系，第一次嘛\" % numsum)\n",
    "else:\n",
    "    print (\"现在进入循环投掷阶段，你需要掷出%d才能赢\" % numsum)\n",
    "    counter=0\n",
    "    while True:\n",
    "        num=gennum()\n",
    "        if num == 7:\n",
    "            print (\"抱歉!你输了，点数是 %d\" % num)\n",
    "            break\n",
    "        elif num == numsum:\n",
    "            print (\"恭喜!你赢啦，点数是 %d\" % num)\n",
    "            break\n",
    "        else:\n",
    "            print (\"抱歉，点数是 %d,请再试一次吧\" % num)\n",
    "            time.sleep(3)\n",
    "            counter+=1\n",
    "            if counter > 5:\n",
    "                print (\"今天运气不好，选个黄道吉日再来吧！\")\n",
    "                break\n",
    "            elif counter == 3:\n",
    "                print (\"看来你今天运气不太好啊！\")\n",
    "            continue"
   ]
  },
  {
   "cell_type": "markdown",
   "metadata": {},
   "source": [
    "- 11 \n",
    "### 去网上寻找如何用Python代码发送邮件 \n",
    "    - time.sleep(3)  3秒发送一次\n",
    "    - 一旦错误后，重新换一个邮箱"
   ]
  }
 ],
 "metadata": {
  "kernelspec": {
   "display_name": "Python 3",
   "language": "python",
   "name": "python3"
  },
  "language_info": {
   "codemirror_mode": {
    "name": "ipython",
    "version": 3
   },
   "file_extension": ".py",
   "mimetype": "text/x-python",
   "name": "python",
   "nbconvert_exporter": "python",
   "pygments_lexer": "ipython3",
   "version": "3.7.3"
  }
 },
 "nbformat": 4,
 "nbformat_minor": 2
}
